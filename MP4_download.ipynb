{
  "nbformat": 4,
  "nbformat_minor": 0,
  "metadata": {
    "colab": {
      "provenance": [],
      "authorship_tag": "ABX9TyNN6wAu5EH0wKsGTfIFiLWL",
      "include_colab_link": true
    },
    "kernelspec": {
      "name": "python3",
      "display_name": "Python 3"
    },
    "language_info": {
      "name": "python"
    }
  },
  "cells": [
    {
      "cell_type": "markdown",
      "metadata": {
        "id": "view-in-github",
        "colab_type": "text"
      },
      "source": [
        "<a href=\"https://colab.research.google.com/github/latestechbros/ansible-tower-samples/blob/master/MP4_download.ipynb\" target=\"_parent\"><img src=\"https://colab.research.google.com/assets/colab-badge.svg\" alt=\"Open In Colab\"/></a>"
      ]
    },
    {
      "cell_type": "code",
      "source": [
        "import pandas as pd\n",
        "import requests\n",
        "from tqdm import tqdm  # For progress bar\n",
        "\n",
        "# Read the Excel file containing URLs\n",
        "excel_file = \"tumblr_posts_mp4.xlsx\"  # Replace with your Excel file name\n",
        "df = pd.read_excel(excel_file)\n",
        "\n",
        "# Function to download MP4 files\n",
        "def download_mp4(url, output_folder=\".\"):\n",
        "    filename = url.split(\"/\")[-1]  # Get the file name from the URL\n",
        "    output_path = f\"{output_folder}/{filename}\"\n",
        "    try:\n",
        "        # Open a connection to the URL\n",
        "        with requests.get(url, stream=True) as r:\n",
        "            r.raise_for_status()  # Raise an exception for any HTTP errors\n",
        "            total_size = int(r.headers.get('content-length', 0))\n",
        "            # Use tqdm to show progress bar while downloading\n",
        "            with open(output_path, \"wb\") as f:\n",
        "                for chunk in tqdm(r.iter_content(chunk_size=8192), total=total_size/8192, unit='KB', desc=filename, ncols=100):\n",
        "                    if chunk:\n",
        "                        f.write(chunk)\n",
        "    except Exception as e:\n",
        "        print(f\"Error downloading {url}: {e}\")\n",
        "\n",
        "# Loop through each URL in the 'body' column and download the MP4 files\n",
        "for url in df['body']:\n",
        "    if isinstance(url, str) and url.endswith('.mp4'):\n",
        "        download_mp4(url, output_folder=\"downloads\")  # Specify your desired output folder here\n"
      ],
      "metadata": {
        "id": "WeGz2RGv-Dat"
      },
      "execution_count": null,
      "outputs": []
    }
  ]
}